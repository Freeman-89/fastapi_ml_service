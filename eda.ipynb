{
 "cells": [
  {
   "cell_type": "code",
   "execution_count": 1,
   "id": "0625aff7-af01-46ff-bc17-26184772f787",
   "metadata": {},
   "outputs": [],
   "source": [
    "import pandas as pd\n",
    "from imblearn.under_sampling import RandomUnderSampler"
   ]
  },
  {
   "cell_type": "code",
   "execution_count": 2,
   "id": "dd89f03b-e4ae-499d-a71e-0cf75157c5d3",
   "metadata": {},
   "outputs": [],
   "source": [
    "df_hits = pd.read_csv('ga_hits.csv', dtype={'event_label': 'object'})\n",
    "df_session = pd.read_csv('ga_sessions.csv', dtype={'client_id': 'object', 'device_model': 'object'})\n"
   ]
  },
  {
   "cell_type": "code",
   "execution_count": 3,
   "id": "1fd719d2-99a6-4a0d-99c5-270076047f41",
   "metadata": {},
   "outputs": [
    {
     "name": "stdout",
     "output_type": "stream",
     "text": [
      "<class 'pandas.core.frame.DataFrame'>\n",
      "RangeIndex: 15726470 entries, 0 to 15726469\n",
      "Data columns (total 11 columns):\n",
      " #   Column          Dtype  \n",
      "---  ------          -----  \n",
      " 0   session_id      object \n",
      " 1   hit_date        object \n",
      " 2   hit_time        float64\n",
      " 3   hit_number      int64  \n",
      " 4   hit_type        object \n",
      " 5   hit_referer     object \n",
      " 6   hit_page_path   object \n",
      " 7   event_category  object \n",
      " 8   event_action    object \n",
      " 9   event_label     object \n",
      " 10  event_value     float64\n",
      "dtypes: float64(2), int64(1), object(8)\n",
      "memory usage: 1.3+ GB\n"
     ]
    },
    {
     "data": {
      "text/html": [
       "<div>\n",
       "<style scoped>\n",
       "    .dataframe tbody tr th:only-of-type {\n",
       "        vertical-align: middle;\n",
       "    }\n",
       "\n",
       "    .dataframe tbody tr th {\n",
       "        vertical-align: top;\n",
       "    }\n",
       "\n",
       "    .dataframe thead th {\n",
       "        text-align: right;\n",
       "    }\n",
       "</style>\n",
       "<table border=\"1\" class=\"dataframe\">\n",
       "  <thead>\n",
       "    <tr style=\"text-align: right;\">\n",
       "      <th></th>\n",
       "      <th>session_id</th>\n",
       "      <th>hit_date</th>\n",
       "      <th>hit_time</th>\n",
       "      <th>hit_number</th>\n",
       "      <th>hit_type</th>\n",
       "      <th>hit_referer</th>\n",
       "      <th>hit_page_path</th>\n",
       "      <th>event_category</th>\n",
       "      <th>event_action</th>\n",
       "      <th>event_label</th>\n",
       "      <th>event_value</th>\n",
       "    </tr>\n",
       "  </thead>\n",
       "  <tbody>\n",
       "    <tr>\n",
       "      <th>0</th>\n",
       "      <td>5639623078712724064.1640254056.1640254056</td>\n",
       "      <td>2021-12-23</td>\n",
       "      <td>597864.0</td>\n",
       "      <td>30</td>\n",
       "      <td>event</td>\n",
       "      <td>NaN</td>\n",
       "      <td>sberauto.com/cars?utm_source_initial=google&amp;ut...</td>\n",
       "      <td>quiz</td>\n",
       "      <td>quiz_show</td>\n",
       "      <td>NaN</td>\n",
       "      <td>NaN</td>\n",
       "    </tr>\n",
       "    <tr>\n",
       "      <th>1</th>\n",
       "      <td>7750352294969115059.1640271109.1640271109</td>\n",
       "      <td>2021-12-23</td>\n",
       "      <td>597331.0</td>\n",
       "      <td>41</td>\n",
       "      <td>event</td>\n",
       "      <td>NaN</td>\n",
       "      <td>sberauto.com/cars/fiat?city=1&amp;city=18&amp;rental_c...</td>\n",
       "      <td>quiz</td>\n",
       "      <td>quiz_show</td>\n",
       "      <td>NaN</td>\n",
       "      <td>NaN</td>\n",
       "    </tr>\n",
       "    <tr>\n",
       "      <th>2</th>\n",
       "      <td>885342191847998240.1640235807.1640235807</td>\n",
       "      <td>2021-12-23</td>\n",
       "      <td>796252.0</td>\n",
       "      <td>49</td>\n",
       "      <td>event</td>\n",
       "      <td>NaN</td>\n",
       "      <td>sberauto.com/cars/all/volkswagen/polo/e994838f...</td>\n",
       "      <td>quiz</td>\n",
       "      <td>quiz_show</td>\n",
       "      <td>NaN</td>\n",
       "      <td>NaN</td>\n",
       "    </tr>\n",
       "    <tr>\n",
       "      <th>3</th>\n",
       "      <td>142526202120934167.1640211014.1640211014</td>\n",
       "      <td>2021-12-23</td>\n",
       "      <td>934292.0</td>\n",
       "      <td>46</td>\n",
       "      <td>event</td>\n",
       "      <td>NaN</td>\n",
       "      <td>sberauto.com/cars?utm_source_initial=yandex&amp;ut...</td>\n",
       "      <td>quiz</td>\n",
       "      <td>quiz_show</td>\n",
       "      <td>NaN</td>\n",
       "      <td>NaN</td>\n",
       "    </tr>\n",
       "    <tr>\n",
       "      <th>4</th>\n",
       "      <td>3450086108837475701.1640265078.1640265078</td>\n",
       "      <td>2021-12-23</td>\n",
       "      <td>768741.0</td>\n",
       "      <td>79</td>\n",
       "      <td>event</td>\n",
       "      <td>NaN</td>\n",
       "      <td>sberauto.com/cars/all/mercedes-benz/cla-klasse...</td>\n",
       "      <td>quiz</td>\n",
       "      <td>quiz_show</td>\n",
       "      <td>NaN</td>\n",
       "      <td>NaN</td>\n",
       "    </tr>\n",
       "  </tbody>\n",
       "</table>\n",
       "</div>"
      ],
      "text/plain": [
       "                                  session_id    hit_date  hit_time  \\\n",
       "0  5639623078712724064.1640254056.1640254056  2021-12-23  597864.0   \n",
       "1  7750352294969115059.1640271109.1640271109  2021-12-23  597331.0   \n",
       "2   885342191847998240.1640235807.1640235807  2021-12-23  796252.0   \n",
       "3   142526202120934167.1640211014.1640211014  2021-12-23  934292.0   \n",
       "4  3450086108837475701.1640265078.1640265078  2021-12-23  768741.0   \n",
       "\n",
       "   hit_number hit_type hit_referer  \\\n",
       "0          30    event         NaN   \n",
       "1          41    event         NaN   \n",
       "2          49    event         NaN   \n",
       "3          46    event         NaN   \n",
       "4          79    event         NaN   \n",
       "\n",
       "                                       hit_page_path event_category  \\\n",
       "0  sberauto.com/cars?utm_source_initial=google&ut...           quiz   \n",
       "1  sberauto.com/cars/fiat?city=1&city=18&rental_c...           quiz   \n",
       "2  sberauto.com/cars/all/volkswagen/polo/e994838f...           quiz   \n",
       "3  sberauto.com/cars?utm_source_initial=yandex&ut...           quiz   \n",
       "4  sberauto.com/cars/all/mercedes-benz/cla-klasse...           quiz   \n",
       "\n",
       "  event_action event_label  event_value  \n",
       "0    quiz_show         NaN          NaN  \n",
       "1    quiz_show         NaN          NaN  \n",
       "2    quiz_show         NaN          NaN  \n",
       "3    quiz_show         NaN          NaN  \n",
       "4    quiz_show         NaN          NaN  "
      ]
     },
     "execution_count": 3,
     "metadata": {},
     "output_type": "execute_result"
    }
   ],
   "source": [
    "df_hits.info()\n",
    "df_hits.head()\n"
   ]
  },
  {
   "cell_type": "code",
   "execution_count": 4,
   "id": "543c3dfb-f610-4240-9184-6c1ff0b48bc7",
   "metadata": {},
   "outputs": [
    {
     "name": "stdout",
     "output_type": "stream",
     "text": [
      "<class 'pandas.core.frame.DataFrame'>\n",
      "RangeIndex: 1860042 entries, 0 to 1860041\n",
      "Data columns (total 18 columns):\n",
      " #   Column                    Dtype \n",
      "---  ------                    ----- \n",
      " 0   session_id                object\n",
      " 1   client_id                 object\n",
      " 2   visit_date                object\n",
      " 3   visit_time                object\n",
      " 4   visit_number              int64 \n",
      " 5   utm_source                object\n",
      " 6   utm_medium                object\n",
      " 7   utm_campaign              object\n",
      " 8   utm_adcontent             object\n",
      " 9   utm_keyword               object\n",
      " 10  device_category           object\n",
      " 11  device_os                 object\n",
      " 12  device_brand              object\n",
      " 13  device_model              object\n",
      " 14  device_screen_resolution  object\n",
      " 15  device_browser            object\n",
      " 16  geo_country               object\n",
      " 17  geo_city                  object\n",
      "dtypes: int64(1), object(17)\n",
      "memory usage: 255.4+ MB\n"
     ]
    },
    {
     "data": {
      "text/html": [
       "<div>\n",
       "<style scoped>\n",
       "    .dataframe tbody tr th:only-of-type {\n",
       "        vertical-align: middle;\n",
       "    }\n",
       "\n",
       "    .dataframe tbody tr th {\n",
       "        vertical-align: top;\n",
       "    }\n",
       "\n",
       "    .dataframe thead th {\n",
       "        text-align: right;\n",
       "    }\n",
       "</style>\n",
       "<table border=\"1\" class=\"dataframe\">\n",
       "  <thead>\n",
       "    <tr style=\"text-align: right;\">\n",
       "      <th></th>\n",
       "      <th>session_id</th>\n",
       "      <th>client_id</th>\n",
       "      <th>visit_date</th>\n",
       "      <th>visit_time</th>\n",
       "      <th>visit_number</th>\n",
       "      <th>utm_source</th>\n",
       "      <th>utm_medium</th>\n",
       "      <th>utm_campaign</th>\n",
       "      <th>utm_adcontent</th>\n",
       "      <th>utm_keyword</th>\n",
       "      <th>device_category</th>\n",
       "      <th>device_os</th>\n",
       "      <th>device_brand</th>\n",
       "      <th>device_model</th>\n",
       "      <th>device_screen_resolution</th>\n",
       "      <th>device_browser</th>\n",
       "      <th>geo_country</th>\n",
       "      <th>geo_city</th>\n",
       "    </tr>\n",
       "  </thead>\n",
       "  <tbody>\n",
       "    <tr>\n",
       "      <th>0</th>\n",
       "      <td>9055434745589932991.1637753792.1637753792</td>\n",
       "      <td>2108382700.1637753791</td>\n",
       "      <td>2021-11-24</td>\n",
       "      <td>14:36:32</td>\n",
       "      <td>1</td>\n",
       "      <td>ZpYIoDJMcFzVoPFsHGJL</td>\n",
       "      <td>banner</td>\n",
       "      <td>LEoPHuyFvzoNfnzGgfcd</td>\n",
       "      <td>vCIpmpaGBnIQhyYNkXqp</td>\n",
       "      <td>puhZPIYqKXeFPaUviSjo</td>\n",
       "      <td>mobile</td>\n",
       "      <td>Android</td>\n",
       "      <td>Huawei</td>\n",
       "      <td>NaN</td>\n",
       "      <td>360x720</td>\n",
       "      <td>Chrome</td>\n",
       "      <td>Russia</td>\n",
       "      <td>Zlatoust</td>\n",
       "    </tr>\n",
       "    <tr>\n",
       "      <th>1</th>\n",
       "      <td>905544597018549464.1636867290.1636867290</td>\n",
       "      <td>210838531.1636867288</td>\n",
       "      <td>2021-11-14</td>\n",
       "      <td>08:21:30</td>\n",
       "      <td>1</td>\n",
       "      <td>MvfHsxITijuriZxsqZqt</td>\n",
       "      <td>cpm</td>\n",
       "      <td>FTjNLDyTrXaWYgZymFkV</td>\n",
       "      <td>xhoenQgDQsgfEPYNPwKO</td>\n",
       "      <td>IGUCNvHlhfHpROGclCit</td>\n",
       "      <td>mobile</td>\n",
       "      <td>Android</td>\n",
       "      <td>Samsung</td>\n",
       "      <td>NaN</td>\n",
       "      <td>385x854</td>\n",
       "      <td>Samsung Internet</td>\n",
       "      <td>Russia</td>\n",
       "      <td>Moscow</td>\n",
       "    </tr>\n",
       "    <tr>\n",
       "      <th>2</th>\n",
       "      <td>9055446045651783499.1640648526.1640648526</td>\n",
       "      <td>2108385331.1640648523</td>\n",
       "      <td>2021-12-28</td>\n",
       "      <td>02:42:06</td>\n",
       "      <td>1</td>\n",
       "      <td>ZpYIoDJMcFzVoPFsHGJL</td>\n",
       "      <td>banner</td>\n",
       "      <td>LEoPHuyFvzoNfnzGgfcd</td>\n",
       "      <td>vCIpmpaGBnIQhyYNkXqp</td>\n",
       "      <td>puhZPIYqKXeFPaUviSjo</td>\n",
       "      <td>mobile</td>\n",
       "      <td>Android</td>\n",
       "      <td>Huawei</td>\n",
       "      <td>NaN</td>\n",
       "      <td>360x720</td>\n",
       "      <td>Chrome</td>\n",
       "      <td>Russia</td>\n",
       "      <td>Krasnoyarsk</td>\n",
       "    </tr>\n",
       "    <tr>\n",
       "      <th>3</th>\n",
       "      <td>9055447046360770272.1622255328.1622255328</td>\n",
       "      <td>2108385564.1622255328</td>\n",
       "      <td>2021-05-29</td>\n",
       "      <td>05:00:00</td>\n",
       "      <td>1</td>\n",
       "      <td>kjsLglQLzykiRbcDiGcD</td>\n",
       "      <td>cpc</td>\n",
       "      <td>NaN</td>\n",
       "      <td>NOBKLgtuvqYWkXQHeYWM</td>\n",
       "      <td>NaN</td>\n",
       "      <td>mobile</td>\n",
       "      <td>NaN</td>\n",
       "      <td>Xiaomi</td>\n",
       "      <td>NaN</td>\n",
       "      <td>393x786</td>\n",
       "      <td>Chrome</td>\n",
       "      <td>Russia</td>\n",
       "      <td>Moscow</td>\n",
       "    </tr>\n",
       "    <tr>\n",
       "      <th>4</th>\n",
       "      <td>9055447046360770272.1622255345.1622255345</td>\n",
       "      <td>2108385564.1622255328</td>\n",
       "      <td>2021-05-29</td>\n",
       "      <td>05:00:00</td>\n",
       "      <td>2</td>\n",
       "      <td>kjsLglQLzykiRbcDiGcD</td>\n",
       "      <td>cpc</td>\n",
       "      <td>NaN</td>\n",
       "      <td>NaN</td>\n",
       "      <td>NaN</td>\n",
       "      <td>mobile</td>\n",
       "      <td>NaN</td>\n",
       "      <td>Xiaomi</td>\n",
       "      <td>NaN</td>\n",
       "      <td>393x786</td>\n",
       "      <td>Chrome</td>\n",
       "      <td>Russia</td>\n",
       "      <td>Moscow</td>\n",
       "    </tr>\n",
       "  </tbody>\n",
       "</table>\n",
       "</div>"
      ],
      "text/plain": [
       "                                  session_id              client_id  \\\n",
       "0  9055434745589932991.1637753792.1637753792  2108382700.1637753791   \n",
       "1   905544597018549464.1636867290.1636867290   210838531.1636867288   \n",
       "2  9055446045651783499.1640648526.1640648526  2108385331.1640648523   \n",
       "3  9055447046360770272.1622255328.1622255328  2108385564.1622255328   \n",
       "4  9055447046360770272.1622255345.1622255345  2108385564.1622255328   \n",
       "\n",
       "   visit_date visit_time  visit_number            utm_source utm_medium  \\\n",
       "0  2021-11-24   14:36:32             1  ZpYIoDJMcFzVoPFsHGJL     banner   \n",
       "1  2021-11-14   08:21:30             1  MvfHsxITijuriZxsqZqt        cpm   \n",
       "2  2021-12-28   02:42:06             1  ZpYIoDJMcFzVoPFsHGJL     banner   \n",
       "3  2021-05-29   05:00:00             1  kjsLglQLzykiRbcDiGcD        cpc   \n",
       "4  2021-05-29   05:00:00             2  kjsLglQLzykiRbcDiGcD        cpc   \n",
       "\n",
       "           utm_campaign         utm_adcontent           utm_keyword  \\\n",
       "0  LEoPHuyFvzoNfnzGgfcd  vCIpmpaGBnIQhyYNkXqp  puhZPIYqKXeFPaUviSjo   \n",
       "1  FTjNLDyTrXaWYgZymFkV  xhoenQgDQsgfEPYNPwKO  IGUCNvHlhfHpROGclCit   \n",
       "2  LEoPHuyFvzoNfnzGgfcd  vCIpmpaGBnIQhyYNkXqp  puhZPIYqKXeFPaUviSjo   \n",
       "3                   NaN  NOBKLgtuvqYWkXQHeYWM                   NaN   \n",
       "4                   NaN                   NaN                   NaN   \n",
       "\n",
       "  device_category device_os device_brand device_model  \\\n",
       "0          mobile   Android       Huawei          NaN   \n",
       "1          mobile   Android      Samsung          NaN   \n",
       "2          mobile   Android       Huawei          NaN   \n",
       "3          mobile       NaN       Xiaomi          NaN   \n",
       "4          mobile       NaN       Xiaomi          NaN   \n",
       "\n",
       "  device_screen_resolution    device_browser geo_country     geo_city  \n",
       "0                  360x720            Chrome      Russia     Zlatoust  \n",
       "1                  385x854  Samsung Internet      Russia       Moscow  \n",
       "2                  360x720            Chrome      Russia  Krasnoyarsk  \n",
       "3                  393x786            Chrome      Russia       Moscow  \n",
       "4                  393x786            Chrome      Russia       Moscow  "
      ]
     },
     "execution_count": 4,
     "metadata": {},
     "output_type": "execute_result"
    }
   ],
   "source": [
    "df_session.info()\n",
    "df_session.head()\n"
   ]
  },
  {
   "cell_type": "code",
   "execution_count": 5,
   "id": "bf6e518e-d2be-4c33-8822-f5e454988324",
   "metadata": {},
   "outputs": [],
   "source": [
    "#определим целевую переменную"
   ]
  },
  {
   "cell_type": "code",
   "execution_count": 6,
   "id": "e4c9d666-08cf-4e07-994b-ba7495976146",
   "metadata": {},
   "outputs": [],
   "source": [
    "#Целевое действие — события типа «Оставить заявку» и «Заказать звонок»\n",
    "# (ga_hits.event_action in ['sub_car_claim_click', 'sub_car_claim_submit_click',\n",
    "# 'sub_open_dialog_click', 'sub_custom_question_submit_click',\n",
    "# 'sub_call_number_click', 'sub_callback_submit_click', 'sub_submit_success',\n",
    "# 'sub_car_request_submit_click'])."
   ]
  },
  {
   "cell_type": "code",
   "execution_count": 9,
   "id": "0154de42-2e1f-4dd9-8534-d4ab2dc63282",
   "metadata": {},
   "outputs": [
    {
     "data": {
      "text/plain": [
       "230"
      ]
     },
     "execution_count": 9,
     "metadata": {},
     "output_type": "execute_result"
    }
   ],
   "source": [
    "df_hits['event_action'].nunique()\n"
   ]
  },
  {
   "cell_type": "code",
   "execution_count": 10,
   "id": "bb36f26a-34ef-4856-91e9-eee05e6bb272",
   "metadata": {},
   "outputs": [
    {
     "name": "stdout",
     "output_type": "stream",
     "text": [
      "Index(['session_id', 'hit_date', 'hit_time', 'hit_number', 'hit_type',\n",
      "       'hit_referer', 'hit_page_path', 'event_category', 'event_action',\n",
      "       'event_label', 'event_value'],\n",
      "      dtype='object')\n",
      "Index(['session_id', 'client_id', 'visit_date', 'visit_time', 'visit_number',\n",
      "       'utm_source', 'utm_medium', 'utm_campaign', 'utm_adcontent',\n",
      "       'utm_keyword', 'device_category', 'device_os', 'device_brand',\n",
      "       'device_model', 'device_screen_resolution', 'device_browser',\n",
      "       'geo_country', 'geo_city'],\n",
      "      dtype='object')\n"
     ]
    }
   ],
   "source": [
    "print(df_hits.columns)\n",
    "print(df_session.columns)\n"
   ]
  },
  {
   "cell_type": "markdown",
   "id": "1d3ae82b-017d-4f3f-8ac0-9ef41eb667ca",
   "metadata": {},
   "source": [
    "# Подготовка данных"
   ]
  },
  {
   "cell_type": "markdown",
   "id": "7e943eb5-8756-45f7-83bd-9fe98eca2441",
   "metadata": {},
   "source": [
    "### Удаляем дубликаты"
   ]
  },
  {
   "cell_type": "code",
   "execution_count": 11,
   "id": "6e9c49ea-07c6-4e00-9066-1f8f42e2bb7b",
   "metadata": {},
   "outputs": [
    {
     "name": "stdout",
     "output_type": "stream",
     "text": [
      "13991860\n",
      "0\n"
     ]
    }
   ],
   "source": [
    "print(df_hits['session_id'].duplicated().sum())\n",
    "print(df_session['session_id'].duplicated().sum())\n"
   ]
  },
  {
   "cell_type": "code",
   "execution_count": 12,
   "id": "1dd3a3db-2154-41d4-ab93-378d28e5e31c",
   "metadata": {},
   "outputs": [
    {
     "name": "stdout",
     "output_type": "stream",
     "text": [
      "13991860\n"
     ]
    }
   ],
   "source": [
    "df_hits = df_hits.drop_duplicates()\n",
    "print(df_hits['session_id'].duplicated().sum())\n"
   ]
  },
  {
   "cell_type": "code",
   "execution_count": 13,
   "id": "89ab338d-2381-46ac-a5a7-7f029f4bc6df",
   "metadata": {},
   "outputs": [],
   "source": [
    "# Сначала вычислим количество пропущенных значений в каждой строке\n",
    "df_hits['missing_values_count'] = df_hits.isnull().sum(axis=1)\n",
    "# Затем отсортируем по session_id и количеству пропущенных значений, чтобы с минимальным количеством пропусков шли первыми\n",
    "df_hits_sorted = df_hits.sort_values(by=['session_id', 'missing_values_count'])\n",
    "# Удалим дубликаты по session_id, оставив первую строку (с минимальным количеством пропусков)\n",
    "df_hits_cleaned = df_hits_sorted.drop_duplicates(subset='session_id', keep='first')\n"
   ]
  },
  {
   "cell_type": "code",
   "execution_count": 14,
   "id": "1efcb161-d8a3-4cbb-9802-2fa7b3467ef3",
   "metadata": {},
   "outputs": [
    {
     "name": "stdout",
     "output_type": "stream",
     "text": [
      "0\n"
     ]
    }
   ],
   "source": [
    "print(df_hits_cleaned['session_id'].duplicated().sum())\n"
   ]
  },
  {
   "cell_type": "code",
   "execution_count": 15,
   "id": "631b968f-e9fa-44b7-b638-d40382f539d4",
   "metadata": {},
   "outputs": [
    {
     "name": "stdout",
     "output_type": "stream",
     "text": [
      "Уникальных session_id в df_hits: 1734610\n",
      "Пропущенных session_id в df_hits: 0\n",
      "Уникальных session_id в df_sessions: 1860042\n",
      "Пропущенных session_id в df_sessions: 0\n"
     ]
    }
   ],
   "source": [
    "#Количество уникальных значений\n",
    "unique_hits_session = df_hits_cleaned['session_id'].nunique()\n",
    "# Количество пропущенных значений\n",
    "missing_hits_session = df_hits_cleaned['session_id'].isna().sum()\n",
    "print(f\"Уникальных session_id в df_hits: {unique_hits_session}\")\n",
    "print(f\"Пропущенных session_id в df_hits: {missing_hits_session}\")\n",
    "\n",
    "\n",
    "# Количество уникальных значений\n",
    "unique_sessions_session = df_session['session_id'].nunique()\n",
    "# Количество пропущенных значений\n",
    "missing_sessions_session = df_session['session_id'].isna().sum()\n",
    "print(f\"Уникальных session_id в df_sessions: {unique_sessions_session}\")\n",
    "print(f\"Пропущенных session_id в df_sessions: {missing_sessions_session}\")\n"
   ]
  },
  {
   "cell_type": "code",
   "execution_count": 16,
   "id": "657a11c9-4529-4c08-8454-91301342406c",
   "metadata": {},
   "outputs": [
    {
     "name": "stdout",
     "output_type": "stream",
     "text": [
      "session_id из df_hits, которых нет в df_sessions: 2344\n",
      "session_id из df_sessions, которых нет в df_hits: 127776\n"
     ]
    }
   ],
   "source": [
    "# Количество session_id из df_hits, которых нет в df_sessions\n",
    "hits_not_in_session = df_hits_cleaned[~df_hits_cleaned['session_id'].isin(df_session['session_id'])]['session_id'].nunique()\n",
    "# Количество session_id из df_sessions, которых нет в df_hits\n",
    "sessions_not_in_hits_cleaned = df_session[~df_session['session_id'].isin(df_hits_cleaned['session_id'])]['session_id'].nunique()\n",
    "print(f\"session_id из df_hits, которых нет в df_sessions: {hits_not_in_session}\")\n",
    "print(f\"session_id из df_sessions, которых нет в df_hits: {sessions_not_in_hits_cleaned}\")\n"
   ]
  },
  {
   "cell_type": "code",
   "execution_count": 17,
   "id": "3b1a0981-cc51-4b22-9688-f9e12ad5d4fd",
   "metadata": {},
   "outputs": [],
   "source": [
    "df_merged = pd.merge(df_hits_cleaned, df_session, on='session_id', how='inner')\n"
   ]
  },
  {
   "cell_type": "code",
   "execution_count": 18,
   "id": "8342a55c-a639-4f69-b5b7-8b6cd7f2cd4e",
   "metadata": {},
   "outputs": [
    {
     "name": "stdout",
     "output_type": "stream",
     "text": [
      "<class 'pandas.core.frame.DataFrame'>\n",
      "RangeIndex: 1732266 entries, 0 to 1732265\n",
      "Data columns (total 29 columns):\n",
      " #   Column                    Dtype  \n",
      "---  ------                    -----  \n",
      " 0   session_id                object \n",
      " 1   hit_date                  object \n",
      " 2   hit_time                  float64\n",
      " 3   hit_number                int64  \n",
      " 4   hit_type                  object \n",
      " 5   hit_referer               object \n",
      " 6   hit_page_path             object \n",
      " 7   event_category            object \n",
      " 8   event_action              object \n",
      " 9   event_label               object \n",
      " 10  event_value               float64\n",
      " 11  missing_values_count      int64  \n",
      " 12  client_id                 object \n",
      " 13  visit_date                object \n",
      " 14  visit_time                object \n",
      " 15  visit_number              int64  \n",
      " 16  utm_source                object \n",
      " 17  utm_medium                object \n",
      " 18  utm_campaign              object \n",
      " 19  utm_adcontent             object \n",
      " 20  utm_keyword               object \n",
      " 21  device_category           object \n",
      " 22  device_os                 object \n",
      " 23  device_brand              object \n",
      " 24  device_model              object \n",
      " 25  device_screen_resolution  object \n",
      " 26  device_browser            object \n",
      " 27  geo_country               object \n",
      " 28  geo_city                  object \n",
      "dtypes: float64(2), int64(3), object(24)\n",
      "memory usage: 383.3+ MB\n"
     ]
    }
   ],
   "source": [
    "df_merged.info()\n"
   ]
  },
  {
   "cell_type": "code",
   "execution_count": 19,
   "id": "972fa3dc-128e-47d4-bf0a-6f4d15bbef52",
   "metadata": {},
   "outputs": [
    {
     "name": "stdout",
     "output_type": "stream",
     "text": [
      "1732266\n",
      "0\n"
     ]
    }
   ],
   "source": [
    "print(df_merged['session_id'].nunique())\n",
    "print(df_merged['session_id'].duplicated().sum())\n"
   ]
  },
  {
   "cell_type": "markdown",
   "id": "6d10f267-bba5-4b83-8ee0-0bfb45f580fb",
   "metadata": {},
   "source": [
    "### Заполнение пропусков"
   ]
  },
  {
   "cell_type": "code",
   "execution_count": 20,
   "id": "aad6d95b-b639-4fd4-8a3a-afc7f9232d50",
   "metadata": {},
   "outputs": [],
   "source": [
    "def handle_critical_missing_data(df, threshold_col=90, threshold_row=1):\n",
    "    \"\"\"\n",
    "    Обрабатывает пропущенные значения в датафрейме.\n",
    "    Дропает колонки с пропусками больше threshold_col%,\n",
    "    и строки с пропусками больше threshold_row%.\n",
    "\n",
    "    :param df: Датафрейм для обработки.\n",
    "    :param threshold_col: Порог для дропания колонок (по умолчанию 90%).\n",
    "    :param threshold_row: Порог для дропания строк (по умолчанию 1%).\n",
    "    :return: Обработанный датафрейм.\n",
    "    \"\"\"\n",
    "    missing_percent_columns = df.isnull().mean() * 100\n",
    "    columns_to_drop = missing_percent_columns[missing_percent_columns > threshold_col].index\n",
    "    df.drop(columns=columns_to_drop, inplace=True)  \n",
    "    \n",
    "\n",
    "    rows_to_drop = missing_percent_columns[missing_percent_columns < threshold_row].index\n",
    "    df.dropna(subset=rows_to_drop, inplace=True)\n",
    "    return df\n",
    "    "
   ]
  },
  {
   "cell_type": "code",
   "execution_count": 21,
   "id": "d8b9e304-2cee-4abe-85f1-d3e1795bac24",
   "metadata": {},
   "outputs": [
    {
     "name": "stdout",
     "output_type": "stream",
     "text": [
      "                          missing_percent    dtype\n",
      "hit_time                        59.156732  float64\n",
      "utm_keyword                     58.928409   object\n",
      "device_os                       58.536535   object\n",
      "hit_referer                     36.662895   object\n",
      "device_brand                    20.040989   object\n",
      "utm_adcontent                   17.555869   object\n",
      "event_label                     17.347751   object\n",
      "utm_campaign                    11.273994   object\n",
      "hit_date                         0.000000   object\n",
      "hit_type                         0.000000   object\n",
      "session_id                       0.000000   object\n",
      "missing_values_count             0.000000    int64\n",
      "event_action                     0.000000   object\n",
      "event_category                   0.000000   object\n",
      "hit_page_path                    0.000000   object\n",
      "hit_number                       0.000000    int64\n",
      "visit_number                     0.000000    int64\n",
      "client_id                        0.000000   object\n",
      "visit_date                       0.000000   object\n",
      "utm_source                       0.000000   object\n",
      "utm_medium                       0.000000   object\n",
      "visit_time                       0.000000   object\n",
      "device_category                  0.000000   object\n",
      "device_screen_resolution         0.000000   object\n",
      "device_browser                   0.000000   object\n",
      "geo_country                      0.000000   object\n",
      "geo_city                         0.000000   object\n"
     ]
    }
   ],
   "source": [
    "df_merged = handle_critical_missing_data(df_merged, 90, 1)\n",
    "missing_percent = df_merged.isnull().mean() * 100\n",
    "dtypes = df_merged.dtypes\n",
    "missing_info = pd.DataFrame({\"missing_percent\": missing_percent, \"dtype\": dtypes})\n",
    "missing_info = missing_info.sort_values(by=\"missing_percent\", ascending=False)\n",
    "print(missing_info)\n"
   ]
  },
  {
   "cell_type": "code",
   "execution_count": 22,
   "id": "11a9ed42-554e-4b89-ab70-5cd4409a6205",
   "metadata": {},
   "outputs": [
    {
     "name": "stdout",
     "output_type": "stream",
     "text": [
      "['Samsung' 'Realme' 'Apple' 'Huawei' 'Xiaomi' nan 'Vivo' 'OPPO'\n",
      " '(not set)' 'OnePlus' 'Sony' 'BQ' 'ZTE' 'Asus' 'Umidigi' 'Meizu' 'itel'\n",
      " 'LG' 'LeEco' 'Nokia' 'Blackview' 'Google' 'Lenovo' 'BlackBerry' 'Tecno'\n",
      " 'Cubot' 'Alcatel' 'Neffos' 'Vsmart' 'Motorola' 'Infinix' 'TCL' 'Vertex'\n",
      " 'Philips' 'Oukitel' 'Vernee' 'Micromax' 'HOMTOM' 'CAT' 'Prestigio'\n",
      " 'Ulefone' 'Mozilla' 'DOOGEE' 'Leagoo' 'TP-Link' 'SonyEricsson' 'HTC'\n",
      " 'Karbonn' 'Sharp' 'Wileyfox' 'POCO' 'A1' 'Gionee' 'Coolpad'\n",
      " 'General Mobile' 'Digma' 'Yota Devices' 'Gome' 'Haier' 'Egreat' 'Kata'\n",
      " 'Mito' 'Poptel' 'Flylion' 'AGM' 'SenseIT' 'DEXP' 'Archos' 'Teclast' 'Fly'\n",
      " 'MLS' 'Keecoo' 'InFocus' 'Highscreen' 'Panasonic' 'Inoi' 'InnJoo' 'Iris'\n",
      " 'LeTV' 'Itoos' 'MTC' 'Black Fox' 'Acer' 'Nuu' 'Celkon' 'Chuwi' 'Walton'\n",
      " 'Xiaolajiao' 'Hisense' 'Lava' 'myPhone' 'Condor' 'ZOJI' 'Tele2' 'Razer'\n",
      " 'Fujitsu' 'Alldocube' 'UGOOS' 'China Phone' 'Amazon' 'Nomu' 'PPTV'\n",
      " 'Jiake' 'Guophone' 'Pantech' 'NOA' 'Caterpillar' 'Symphony' 'Wiko'\n",
      " 'Wigor' 'Oysters' 'Komu' 'Artel' 'Ananda' 'Smartisan' 'BLU' 'Elephone'\n",
      " 'Kingplay' 'Cube' 'Flexymove' 'AT&T' 'Advan' 'Fairphone' 'Corn' 'Tonbux'\n",
      " 'Vestel' 'TurboPad' 'Dark' 'T-Mobile' 'China Mobile' 'Smartfren' 'iNew'\n",
      " 'MXQ' 'Billion' 'Kyocera' 'teXet' 'MTS' 'Geotel' 'BLUBOO' 'INUI' 'Hafury'\n",
      " 'Krip' 'MediaTek' 'Digiland' 'Unihertz' 'Ark' 'Essential' 'Dragon Touch'\n",
      " 'E&L' 'Fero' 'Land Rover' 'H96' 'Tanix' 'Vertu' 'Mlais' 'Ken Xin Da'\n",
      " 'Beelink' 'Orbic' 'Irbis' 'Honeywell' 'RED' 'QMobile' 'Sonim' 'Jiayu'\n",
      " 'Evertek' 'Gretel' 'Tesla' 'Vodafone' 'Explay' 'Evercoss' 'Wexler'\n",
      " 'Smarteo' 'Olla' 'Star' 'Mobiistar' 'ThL' 'Honor' 'Microsoft' 'Xgody'\n",
      " 'Yuntab' 'LTC' 'Motive' 'Verizon' 'Wieppo' 'UMI' 'M-HORSE' 'Winnovo'\n",
      " 'Qbex' 'Nomi' 'Wings Mobile' 'How' 'Centric' 'Gigaset' 'Maze' 'Dell'\n",
      " 'China TVBox' 'Kenxinda' 'Tagital' 'Dynamic' 'FREETEL' 'Maxvi']\n",
      "device_brand\n",
      "Apple       503526\n",
      "Samsung     311636\n",
      "Xiaomi      269242\n",
      "Huawei      173823\n",
      "Realme       17925\n",
      "             ...  \n",
      "Dell             1\n",
      "Kenxinda         1\n",
      "Tagital          1\n",
      "FREETEL          1\n",
      "Maxvi            1\n",
      "Name: count, Length: 200, dtype: int64\n"
     ]
    }
   ],
   "source": [
    "unique_device_brands = df_merged['device_brand'].unique()\n",
    "print(unique_device_brands)\n",
    "device_brand_counts = df_merged['device_brand'].value_counts()\n",
    "print(device_brand_counts)\n"
   ]
  },
  {
   "cell_type": "code",
   "execution_count": 23,
   "id": "285d9b70-0b2e-4afb-aa4d-e52440deb701",
   "metadata": {},
   "outputs": [
    {
     "name": "stdout",
     "output_type": "stream",
     "text": [
      "[nan 'Android' 'iOS' 'Macintosh' 'Windows' 'Linux' 'Chrome OS' '(not set)'\n",
      " 'BlackBerry' 'Tizen' 'Firefox OS' 'Nokia' 'Samsung' 'Windows Phone']\n",
      "device_os\n",
      "Android          425499\n",
      "iOS              182590\n",
      "Windows           81731\n",
      "Macintosh         23376\n",
      "Linux              4616\n",
      "(not set)           309\n",
      "Chrome OS            65\n",
      "BlackBerry           24\n",
      "Tizen                 7\n",
      "Firefox OS            3\n",
      "Nokia                 2\n",
      "Samsung               2\n",
      "Windows Phone         2\n",
      "Name: count, dtype: int64\n"
     ]
    }
   ],
   "source": [
    "unique_device_brands = df_merged['device_os'].unique()\n",
    "print(unique_device_brands)\n",
    "device_brand_counts = df_merged['device_os'].value_counts()\n",
    "print(device_brand_counts)"
   ]
  },
  {
   "cell_type": "code",
   "execution_count": 24,
   "id": "553ceb82-233f-4413-850f-49268481ec7b",
   "metadata": {},
   "outputs": [],
   "source": [
    "df_merged.device_brand = df_merged.device_brand.fillna('other')\n",
    "device_os_filled = df_merged.groupby(['device_brand'])['device_os'].agg(lambda x: x.mode()[0] if not x.mode().empty else 'Unknown')\n",
    "df_merged['device_os'] = df_merged.apply(lambda row: device_os_filled.get(row['device_brand'], 'Unknown') if pd.isna(row['device_os']) else row['device_os'], axis=1)\n"
   ]
  },
  {
   "cell_type": "code",
   "execution_count": 25,
   "id": "6869ef35-4107-469c-a544-b1be5561bc2e",
   "metadata": {},
   "outputs": [
    {
     "name": "stdout",
     "output_type": "stream",
     "text": [
      "0\n",
      "0\n",
      "73\n"
     ]
    }
   ],
   "source": [
    "print(df_merged['device_os'].isnull().sum())\n",
    "print(df_merged['device_brand'].isnull().sum())\n",
    "print((df_merged['device_os'] == 'Unknown').sum())"
   ]
  },
  {
   "cell_type": "code",
   "execution_count": 26,
   "id": "4493f5b2-8114-4baf-b3c5-744c67397a10",
   "metadata": {},
   "outputs": [
    {
     "data": {
      "text/plain": [
       "1192"
      ]
     },
     "execution_count": 26,
     "metadata": {},
     "output_type": "execute_result"
    }
   ],
   "source": [
    "df_merged['utm_keyword'].nunique()"
   ]
  },
  {
   "cell_type": "code",
   "execution_count": 27,
   "id": "15d2ef5a-1b6f-4db6-b203-6d48361fe968",
   "metadata": {},
   "outputs": [
    {
     "data": {
      "text/plain": [
       "utm_source            utm_medium  utm_keyword         \n",
       "AHgbtEjTEsiUMJouiDYS  referral    puhZPIYqKXeFPaUviSjo      14\n",
       "ANoZJgYuPrWNkAAchryx  referral    puhZPIYqKXeFPaUviSjo       5\n",
       "ArbfvYgWhqxkzywKqpQf  referral    puhZPIYqKXeFPaUviSjo      19\n",
       "AuJjYKxJakEqFnCmyFtz  main_polka  puhZPIYqKXeFPaUviSjo       3\n",
       "BAZCuyHZnaPrMGOMrcCQ  referral    puhZPIYqKXeFPaUviSjo       1\n",
       "BHcvLfOaCWvWTykYqHVe  (not set)   puhZPIYqKXeFPaUviSjo       2\n",
       "                      cpc         ZNhSIPchlbnKwZWcsKzz    5511\n",
       "                                  JajANoFxoqXfKRNBUhzx    4510\n",
       "                                  ITfrGJNwVsHBGJMAKoct    4081\n",
       "                                  XEayFbemrPYbxFeNbxif    1680\n",
       "                                  tVtbIKrPSOvrXLCznVVe    1512\n",
       "                                  lVHkqXlZapieOXCrCJWG    1182\n",
       "                                  psjAUzFZVWWCuxgCrtmQ     782\n",
       "                                  nSReTmyFtbSjlPrTKoaX     681\n",
       "                                  QYfbqJXuLdJGfOSFgZOs     662\n",
       "                                  mpFygdnCzMsVlLWOpHBn     654\n",
       "                                  zXjuoqEaPElBnwpSHMpx     610\n",
       "                                  puhZPIYqKXeFPaUviSjo     519\n",
       "                                  KCcEkEaKEtUilBVMoCAi     447\n",
       "                                  TxKUcPpthBDPieTGmVhx     438\n",
       "Name: count, dtype: int64"
      ]
     },
     "execution_count": 27,
     "metadata": {},
     "output_type": "execute_result"
    }
   ],
   "source": [
    "df_merged.groupby(['utm_source', 'utm_medium'])['utm_keyword'].value_counts().head(20)\n"
   ]
  },
  {
   "cell_type": "code",
   "execution_count": 28,
   "id": "da1c37bb-a4d5-4b6a-9b66-a56c1df22f7f",
   "metadata": {},
   "outputs": [],
   "source": [
    "df_merged['utm_keyword'] = df_merged.groupby(['utm_source', 'utm_medium'])['utm_keyword'].transform(lambda x: x.mode()[0] if not x.mode().empty else 'Unknown')\n",
    "\n"
   ]
  },
  {
   "cell_type": "code",
   "execution_count": 29,
   "id": "ca323565-a061-493f-9884-5ee710889cff",
   "metadata": {},
   "outputs": [
    {
     "name": "stdout",
     "output_type": "stream",
     "text": [
      "                          missing_percent    dtype\n",
      "hit_time                        59.156732  float64\n",
      "hit_referer                     36.662895   object\n",
      "utm_adcontent                   17.555869   object\n",
      "event_label                     17.347751   object\n",
      "utm_campaign                    11.273994   object\n",
      "hit_date                         0.000000   object\n",
      "session_id                       0.000000   object\n",
      "hit_page_path                    0.000000   object\n",
      "event_category                   0.000000   object\n",
      "hit_type                         0.000000   object\n",
      "hit_number                       0.000000    int64\n",
      "missing_values_count             0.000000    int64\n",
      "event_action                     0.000000   object\n",
      "client_id                        0.000000   object\n",
      "visit_date                       0.000000   object\n",
      "visit_number                     0.000000    int64\n",
      "visit_time                       0.000000   object\n",
      "utm_medium                       0.000000   object\n",
      "utm_source                       0.000000   object\n",
      "utm_keyword                      0.000000   object\n",
      "device_category                  0.000000   object\n",
      "device_os                        0.000000   object\n",
      "device_brand                     0.000000   object\n",
      "device_screen_resolution         0.000000   object\n",
      "device_browser                   0.000000   object\n",
      "geo_country                      0.000000   object\n",
      "geo_city                         0.000000   object\n",
      "Процент значений 'Unknown': 1.09%\n"
     ]
    }
   ],
   "source": [
    "missing_percent = df_merged.isnull().mean() * 100\n",
    "dtypes = df_merged.dtypes\n",
    "missing_info = pd.DataFrame({\"missing_percent\": missing_percent, \"dtype\": dtypes})\n",
    "missing_info = missing_info.sort_values(by=\"missing_percent\", ascending=False)\n",
    "print(missing_info)\n",
    "\n",
    "unknown_percentage = (df_merged['utm_keyword'] == 'Unknown').mean() * 100\n",
    "print(f\"Процент значений 'Unknown': {unknown_percentage:.2f}%\")"
   ]
  },
  {
   "cell_type": "code",
   "execution_count": 30,
   "id": "54521ec1-efa8-40b6-85fd-8296a0cf21ae",
   "metadata": {},
   "outputs": [],
   "source": [
    "df_merged['hit_referer'] = df_merged.groupby('hit_type')['hit_referer'].transform(lambda x: x.mode()[0] if not x.mode().empty else 'Unknown')\n",
    "df_merged['event_label'] = df_merged.groupby(['event_category', 'event_action'])['event_label'].transform(lambda x: x.mode()[0] if not x.mode().empty else 'Unknown')\n",
    "df_merged['utm_campaign'] = df_merged.groupby(['utm_medium', 'utm_source', 'utm_keyword'])['utm_campaign'].transform(lambda x: x.mode()[0] if not x.mode().empty else 'Unknown')\n",
    "df_merged['utm_adcontent'] = df_merged.groupby(['utm_campaign','utm_medium', 'utm_source', 'utm_keyword'])['utm_campaign'].transform(lambda x: x.mode()[0] if not x.mode().empty else 'Unknown')"
   ]
  },
  {
   "cell_type": "code",
   "execution_count": 31,
   "id": "8ef8790f-14e5-43b2-ac15-44c5a8d8863e",
   "metadata": {},
   "outputs": [
    {
     "name": "stdout",
     "output_type": "stream",
     "text": [
      "                          missing_percent    dtype\n",
      "hit_time                        59.156732  float64\n",
      "session_id                       0.000000   object\n",
      "hit_date                         0.000000   object\n",
      "hit_number                       0.000000    int64\n",
      "hit_type                         0.000000   object\n",
      "hit_referer                      0.000000   object\n",
      "hit_page_path                    0.000000   object\n",
      "event_category                   0.000000   object\n",
      "event_action                     0.000000   object\n",
      "event_label                      0.000000   object\n",
      "missing_values_count             0.000000    int64\n",
      "client_id                        0.000000   object\n",
      "visit_date                       0.000000   object\n",
      "visit_time                       0.000000   object\n",
      "visit_number                     0.000000    int64\n",
      "utm_source                       0.000000   object\n",
      "utm_medium                       0.000000   object\n",
      "utm_campaign                     0.000000   object\n",
      "utm_adcontent                    0.000000   object\n",
      "utm_keyword                      0.000000   object\n",
      "device_category                  0.000000   object\n",
      "device_os                        0.000000   object\n",
      "device_brand                     0.000000   object\n",
      "device_screen_resolution         0.000000   object\n",
      "device_browser                   0.000000   object\n",
      "geo_country                      0.000000   object\n",
      "geo_city                         0.000000   object\n",
      "Процент значений 'Unknown': 0.00%\n",
      "Процент значений 'Unknown': 0.48%\n",
      "Процент значений 'Unknown': 0.22%\n",
      "Процент значений 'Unknown': 0.22%\n"
     ]
    }
   ],
   "source": [
    "missing_percent = df_merged.isnull().mean() * 100\n",
    "dtypes = df_merged.dtypes\n",
    "missing_info = pd.DataFrame({\"missing_percent\": missing_percent, \"dtype\": dtypes})\n",
    "missing_info = missing_info.sort_values(by=\"missing_percent\", ascending=False)\n",
    "print(missing_info)\n",
    "\n",
    "unknown_percentage = (df_merged['hit_referer'] == 'Unknown').mean() * 100\n",
    "print(f\"Процент значений 'Unknown': {unknown_percentage:.2f}%\")\n",
    "\n",
    "unknown_percentage = (df_merged['event_label'] == 'Unknown').mean() * 100\n",
    "print(f\"Процент значений 'Unknown': {unknown_percentage:.2f}%\")\n",
    "\n",
    "unknown_percentage = (df_merged['utm_campaign'] == 'Unknown').mean() * 100\n",
    "print(f\"Процент значений 'Unknown': {unknown_percentage:.2f}%\")\n",
    "\n",
    "unknown_percentage = (df_merged['utm_adcontent'] == 'Unknown').mean() * 100\n",
    "print(f\"Процент значений 'Unknown': {unknown_percentage:.2f}%\")"
   ]
  },
  {
   "cell_type": "code",
   "execution_count": 32,
   "id": "07895eb9-6544-4723-8762-8e0021c9d18d",
   "metadata": {},
   "outputs": [
    {
     "name": "stdout",
     "output_type": "stream",
     "text": [
      "В столбце 'session_id' количество значений 'IKNOW': 0, процент: 0.00%\n",
      "В столбце 'hit_date' количество значений 'IKNOW': 0, процент: 0.00%\n",
      "В столбце 'hit_time' количество значений 'IKNOW': 0, процент: 0.00%\n",
      "В столбце 'hit_number' количество значений 'IKNOW': 0, процент: 0.00%\n",
      "В столбце 'hit_type' количество значений 'IKNOW': 0, процент: 0.00%\n",
      "В столбце 'hit_referer' количество значений 'IKNOW': 0, процент: 0.00%\n",
      "В столбце 'hit_page_path' количество значений 'IKNOW': 0, процент: 0.00%\n",
      "В столбце 'event_category' количество значений 'IKNOW': 0, процент: 0.00%\n",
      "В столбце 'event_action' количество значений 'IKNOW': 0, процент: 0.00%\n",
      "В столбце 'event_label' количество значений 'IKNOW': 8281, процент: 0.48%\n",
      "В столбце 'missing_values_count' количество значений 'IKNOW': 0, процент: 0.00%\n",
      "В столбце 'client_id' количество значений 'IKNOW': 0, процент: 0.00%\n",
      "В столбце 'visit_date' количество значений 'IKNOW': 0, процент: 0.00%\n",
      "В столбце 'visit_time' количество значений 'IKNOW': 0, процент: 0.00%\n",
      "В столбце 'visit_number' количество значений 'IKNOW': 0, процент: 0.00%\n",
      "В столбце 'utm_source' количество значений 'IKNOW': 0, процент: 0.00%\n",
      "В столбце 'utm_medium' количество значений 'IKNOW': 0, процент: 0.00%\n",
      "В столбце 'utm_campaign' количество значений 'IKNOW': 3843, процент: 0.22%\n",
      "В столбце 'utm_adcontent' количество значений 'IKNOW': 3843, процент: 0.22%\n",
      "В столбце 'utm_keyword' количество значений 'IKNOW': 18848, процент: 1.09%\n",
      "В столбце 'device_category' количество значений 'IKNOW': 0, процент: 0.00%\n",
      "В столбце 'device_os' количество значений 'IKNOW': 73, процент: 0.00%\n",
      "В столбце 'device_brand' количество значений 'IKNOW': 0, процент: 0.00%\n",
      "В столбце 'device_screen_resolution' количество значений 'IKNOW': 0, процент: 0.00%\n",
      "В столбце 'device_browser' количество значений 'IKNOW': 0, процент: 0.00%\n",
      "В столбце 'geo_country' количество значений 'IKNOW': 0, процент: 0.00%\n",
      "В столбце 'geo_city' количество значений 'IKNOW': 0, процент: 0.00%\n"
     ]
    }
   ],
   "source": [
    "for column in df_merged.columns:\n",
    "    uknow_count = (df_merged[column] == 'Unknown').sum()\n",
    "    uknow_percentage = (uknow_count / len(df_merged)) * 100\n",
    "    print(f\"В столбце '{column}' количество значений 'IKNOW': {uknow_count}, процент: {uknow_percentage:.2f}%\")\n"
   ]
  },
  {
   "cell_type": "code",
   "execution_count": 33,
   "id": "1726bc06-174d-4917-9e34-8ac66f430a51",
   "metadata": {},
   "outputs": [],
   "source": [
    "df_merged = df_merged[~df_merged.isin(['Unknown']).any(axis=1)]\n"
   ]
  },
  {
   "cell_type": "code",
   "execution_count": 34,
   "id": "b1bd7222-3e80-4e66-bf7b-45bb79ffdd59",
   "metadata": {},
   "outputs": [],
   "source": [
    "median_hit_time = df_merged['hit_time'].median()\n",
    "df_merged.loc[:, 'hit_time'] = df_merged.loc[:, 'hit_time'].fillna(median_hit_time)\n",
    "\n"
   ]
  },
  {
   "cell_type": "code",
   "execution_count": 35,
   "id": "56240583-dae9-47b2-9353-73290a17f3a9",
   "metadata": {},
   "outputs": [
    {
     "data": {
      "text/html": [
       "<div>\n",
       "<style scoped>\n",
       "    .dataframe tbody tr th:only-of-type {\n",
       "        vertical-align: middle;\n",
       "    }\n",
       "\n",
       "    .dataframe tbody tr th {\n",
       "        vertical-align: top;\n",
       "    }\n",
       "\n",
       "    .dataframe thead th {\n",
       "        text-align: right;\n",
       "    }\n",
       "</style>\n",
       "<table border=\"1\" class=\"dataframe\">\n",
       "  <thead>\n",
       "    <tr style=\"text-align: right;\">\n",
       "      <th></th>\n",
       "      <th>session_id</th>\n",
       "      <th>hit_date</th>\n",
       "      <th>hit_time</th>\n",
       "      <th>hit_number</th>\n",
       "      <th>hit_type</th>\n",
       "      <th>hit_referer</th>\n",
       "      <th>hit_page_path</th>\n",
       "      <th>event_category</th>\n",
       "      <th>event_action</th>\n",
       "      <th>event_label</th>\n",
       "      <th>...</th>\n",
       "      <th>utm_campaign</th>\n",
       "      <th>utm_adcontent</th>\n",
       "      <th>utm_keyword</th>\n",
       "      <th>device_category</th>\n",
       "      <th>device_os</th>\n",
       "      <th>device_brand</th>\n",
       "      <th>device_screen_resolution</th>\n",
       "      <th>device_browser</th>\n",
       "      <th>geo_country</th>\n",
       "      <th>geo_city</th>\n",
       "    </tr>\n",
       "  </thead>\n",
       "  <tbody>\n",
       "    <tr>\n",
       "      <th>0</th>\n",
       "      <td>1000009318903347362.1632663668.1632663668</td>\n",
       "      <td>2021-09-26</td>\n",
       "      <td>10183.0</td>\n",
       "      <td>15</td>\n",
       "      <td>event</td>\n",
       "      <td>HbolMJUevblAbkHClEQa</td>\n",
       "      <td>podpiska.sberauto.com/faq?utm_source_initial=y...</td>\n",
       "      <td>sub_page_view</td>\n",
       "      <td>sub_faq</td>\n",
       "      <td>KclpemfoHstknWHFiLit</td>\n",
       "      <td>...</td>\n",
       "      <td>FTjNLDyTrXaWYgZymFkV</td>\n",
       "      <td>FTjNLDyTrXaWYgZymFkV</td>\n",
       "      <td>pHqgLcdBQPSLcrTpLkdr</td>\n",
       "      <td>mobile</td>\n",
       "      <td>Android</td>\n",
       "      <td>Samsung</td>\n",
       "      <td>412x869</td>\n",
       "      <td>Chrome</td>\n",
       "      <td>Russia</td>\n",
       "      <td>Gelendzhik</td>\n",
       "    </tr>\n",
       "    <tr>\n",
       "      <th>1</th>\n",
       "      <td>1000010177899156286.1635013443.1635013443</td>\n",
       "      <td>2021-10-23</td>\n",
       "      <td>166911.0</td>\n",
       "      <td>5</td>\n",
       "      <td>event</td>\n",
       "      <td>HbolMJUevblAbkHClEQa</td>\n",
       "      <td>podpiska.sberauto.com/</td>\n",
       "      <td>sub_button_click</td>\n",
       "      <td>sub_view_cars_click</td>\n",
       "      <td>OHfyUfDKdPgBdvelDlfG</td>\n",
       "      <td>...</td>\n",
       "      <td>LTuZkdKfxRGVceoWkVyg</td>\n",
       "      <td>LTuZkdKfxRGVceoWkVyg</td>\n",
       "      <td>puhZPIYqKXeFPaUviSjo</td>\n",
       "      <td>mobile</td>\n",
       "      <td>Android</td>\n",
       "      <td>Samsung</td>\n",
       "      <td>360x640</td>\n",
       "      <td>Samsung Internet</td>\n",
       "      <td>Russia</td>\n",
       "      <td>Voronezh</td>\n",
       "    </tr>\n",
       "    <tr>\n",
       "      <th>2</th>\n",
       "      <td>1000013386240115915.1635402956.1635402956</td>\n",
       "      <td>2021-10-28</td>\n",
       "      <td>163283.0</td>\n",
       "      <td>13</td>\n",
       "      <td>event</td>\n",
       "      <td>HbolMJUevblAbkHClEQa</td>\n",
       "      <td>podpiska.sberauto.com/</td>\n",
       "      <td>sub_button_click</td>\n",
       "      <td>sub_view_cars_click</td>\n",
       "      <td>OHfyUfDKdPgBdvelDlfG</td>\n",
       "      <td>...</td>\n",
       "      <td>LEoPHuyFvzoNfnzGgfcd</td>\n",
       "      <td>LEoPHuyFvzoNfnzGgfcd</td>\n",
       "      <td>puhZPIYqKXeFPaUviSjo</td>\n",
       "      <td>mobile</td>\n",
       "      <td>Android</td>\n",
       "      <td>Samsung</td>\n",
       "      <td>412x846</td>\n",
       "      <td>Chrome</td>\n",
       "      <td>Russia</td>\n",
       "      <td>Cherkessk</td>\n",
       "    </tr>\n",
       "    <tr>\n",
       "      <th>3</th>\n",
       "      <td>1000017303238376207.1623489300.1623489300</td>\n",
       "      <td>2021-06-12</td>\n",
       "      <td>10183.0</td>\n",
       "      <td>3</td>\n",
       "      <td>event</td>\n",
       "      <td>HbolMJUevblAbkHClEQa</td>\n",
       "      <td>podpiska.sberauto.com/</td>\n",
       "      <td>sub_page_view</td>\n",
       "      <td>sub_landing</td>\n",
       "      <td>KclpemfoHstknWHFiLit</td>\n",
       "      <td>...</td>\n",
       "      <td>LEoPHuyFvzoNfnzGgfcd</td>\n",
       "      <td>LEoPHuyFvzoNfnzGgfcd</td>\n",
       "      <td>puhZPIYqKXeFPaUviSjo</td>\n",
       "      <td>mobile</td>\n",
       "      <td>Android</td>\n",
       "      <td>Realme</td>\n",
       "      <td>360x780</td>\n",
       "      <td>Chrome</td>\n",
       "      <td>Russia</td>\n",
       "      <td>Irkutsk</td>\n",
       "    </tr>\n",
       "    <tr>\n",
       "      <th>4</th>\n",
       "      <td>1000020580299877109.1624943350.1624943350</td>\n",
       "      <td>2021-06-29</td>\n",
       "      <td>10183.0</td>\n",
       "      <td>3</td>\n",
       "      <td>event</td>\n",
       "      <td>HbolMJUevblAbkHClEQa</td>\n",
       "      <td>sberauto.com/cars/https://sberauto.com/cars/b8...</td>\n",
       "      <td>quiz</td>\n",
       "      <td>quiz_show</td>\n",
       "      <td>KclpemfoHstknWHFiLit</td>\n",
       "      <td>...</td>\n",
       "      <td>LTuZkdKfxRGVceoWkVyg</td>\n",
       "      <td>LTuZkdKfxRGVceoWkVyg</td>\n",
       "      <td>puhZPIYqKXeFPaUviSjo</td>\n",
       "      <td>mobile</td>\n",
       "      <td>iOS</td>\n",
       "      <td>Apple</td>\n",
       "      <td>414x736</td>\n",
       "      <td>Safari</td>\n",
       "      <td>Russia</td>\n",
       "      <td>Moscow</td>\n",
       "    </tr>\n",
       "  </tbody>\n",
       "</table>\n",
       "<p>5 rows × 27 columns</p>\n",
       "</div>"
      ],
      "text/plain": [
       "                                  session_id    hit_date  hit_time  \\\n",
       "0  1000009318903347362.1632663668.1632663668  2021-09-26   10183.0   \n",
       "1  1000010177899156286.1635013443.1635013443  2021-10-23  166911.0   \n",
       "2  1000013386240115915.1635402956.1635402956  2021-10-28  163283.0   \n",
       "3  1000017303238376207.1623489300.1623489300  2021-06-12   10183.0   \n",
       "4  1000020580299877109.1624943350.1624943350  2021-06-29   10183.0   \n",
       "\n",
       "   hit_number hit_type           hit_referer  \\\n",
       "0          15    event  HbolMJUevblAbkHClEQa   \n",
       "1           5    event  HbolMJUevblAbkHClEQa   \n",
       "2          13    event  HbolMJUevblAbkHClEQa   \n",
       "3           3    event  HbolMJUevblAbkHClEQa   \n",
       "4           3    event  HbolMJUevblAbkHClEQa   \n",
       "\n",
       "                                       hit_page_path    event_category  \\\n",
       "0  podpiska.sberauto.com/faq?utm_source_initial=y...     sub_page_view   \n",
       "1                             podpiska.sberauto.com/  sub_button_click   \n",
       "2                             podpiska.sberauto.com/  sub_button_click   \n",
       "3                             podpiska.sberauto.com/     sub_page_view   \n",
       "4  sberauto.com/cars/https://sberauto.com/cars/b8...              quiz   \n",
       "\n",
       "          event_action           event_label  ...          utm_campaign  \\\n",
       "0              sub_faq  KclpemfoHstknWHFiLit  ...  FTjNLDyTrXaWYgZymFkV   \n",
       "1  sub_view_cars_click  OHfyUfDKdPgBdvelDlfG  ...  LTuZkdKfxRGVceoWkVyg   \n",
       "2  sub_view_cars_click  OHfyUfDKdPgBdvelDlfG  ...  LEoPHuyFvzoNfnzGgfcd   \n",
       "3          sub_landing  KclpemfoHstknWHFiLit  ...  LEoPHuyFvzoNfnzGgfcd   \n",
       "4            quiz_show  KclpemfoHstknWHFiLit  ...  LTuZkdKfxRGVceoWkVyg   \n",
       "\n",
       "          utm_adcontent           utm_keyword device_category  device_os  \\\n",
       "0  FTjNLDyTrXaWYgZymFkV  pHqgLcdBQPSLcrTpLkdr          mobile    Android   \n",
       "1  LTuZkdKfxRGVceoWkVyg  puhZPIYqKXeFPaUviSjo          mobile    Android   \n",
       "2  LEoPHuyFvzoNfnzGgfcd  puhZPIYqKXeFPaUviSjo          mobile    Android   \n",
       "3  LEoPHuyFvzoNfnzGgfcd  puhZPIYqKXeFPaUviSjo          mobile    Android   \n",
       "4  LTuZkdKfxRGVceoWkVyg  puhZPIYqKXeFPaUviSjo          mobile        iOS   \n",
       "\n",
       "  device_brand device_screen_resolution    device_browser geo_country  \\\n",
       "0      Samsung                  412x869            Chrome      Russia   \n",
       "1      Samsung                  360x640  Samsung Internet      Russia   \n",
       "2      Samsung                  412x846            Chrome      Russia   \n",
       "3       Realme                  360x780            Chrome      Russia   \n",
       "4        Apple                  414x736            Safari      Russia   \n",
       "\n",
       "     geo_city  \n",
       "0  Gelendzhik  \n",
       "1    Voronezh  \n",
       "2   Cherkessk  \n",
       "3     Irkutsk  \n",
       "4      Moscow  \n",
       "\n",
       "[5 rows x 27 columns]"
      ]
     },
     "execution_count": 35,
     "metadata": {},
     "output_type": "execute_result"
    }
   ],
   "source": [
    "df_merged.head()"
   ]
  },
  {
   "cell_type": "code",
   "execution_count": null,
   "id": "e1ed1e48-7af4-415a-ab48-45a6f71c7838",
   "metadata": {},
   "outputs": [],
   "source": [
    "\n"
   ]
  },
  {
   "cell_type": "markdown",
   "id": "72c1db95-0bff-4900-b780-416cd64101fc",
   "metadata": {},
   "source": [
    "### Дальше"
   ]
  },
  {
   "cell_type": "code",
   "execution_count": 36,
   "id": "c3e19847-4af6-4a3e-9ddc-df8dbdc2d893",
   "metadata": {},
   "outputs": [],
   "source": [
    "target_result = ['sub_car_claim_click', 'sub_car_claim_submit_click','sub_open_dialog_click',\n",
    "                 'sub_custom_question_submit_click','sub_call_number_click', 'sub_callback_submit_click', \n",
    "                 'sub_submit_success','sub_car_request_submit_click'\n",
    "                ]\n",
    "df_merged['target'] = df_merged['event_action'].apply(lambda x: 1 if x in target_result else 0)"
   ]
  },
  {
   "cell_type": "code",
   "execution_count": 37,
   "id": "107f5efa-8a08-4794-8ba5-13b5e23073df",
   "metadata": {},
   "outputs": [
    {
     "name": "stdout",
     "output_type": "stream",
     "text": [
      "target                               1\n",
      "event_action                          \n",
      "sub_call_number_click              250\n",
      "sub_callback_submit_click           71\n",
      "sub_car_claim_click               2586\n",
      "sub_car_claim_submit_click         142\n",
      "sub_car_request_submit_click        66\n",
      "sub_custom_question_submit_click    24\n",
      "sub_open_dialog_click             4625\n",
      "sub_submit_success                1796\n"
     ]
    }
   ],
   "source": [
    "filtred_target_result =  df_merged[df_merged['event_action'].isin(target_result)]\n",
    "pivot_table = filtred_target_result.pivot_table(\n",
    "    index='event_action',\n",
    "    columns='target',\n",
    "    aggfunc='size',\n",
    "    fill_value=0\n",
    ")\n",
    "\n",
    "print(pivot_table)"
   ]
  },
  {
   "cell_type": "code",
   "execution_count": 38,
   "id": "ba4a81d2-ddc7-4fef-93ce-31e1e5aa692d",
   "metadata": {},
   "outputs": [
    {
     "name": "stdout",
     "output_type": "stream",
     "text": [
      "                   event_action  target\n",
      "120       sub_open_dialog_click       1\n",
      "485       sub_open_dialog_click       1\n",
      "583       sub_open_dialog_click       1\n",
      "613       sub_open_dialog_click       1\n",
      "642         sub_car_claim_click       1\n",
      "809       sub_open_dialog_click       1\n",
      "818          sub_submit_success       1\n",
      "1293        sub_car_claim_click       1\n",
      "1330        sub_car_claim_click       1\n",
      "1359      sub_open_dialog_click       1\n",
      "1396      sub_open_dialog_click       1\n",
      "1399      sub_open_dialog_click       1\n",
      "1652         sub_submit_success       1\n",
      "1826      sub_open_dialog_click       1\n",
      "1827      sub_open_dialog_click       1\n",
      "2006  sub_callback_submit_click       1\n",
      "2083      sub_open_dialog_click       1\n",
      "2286      sub_open_dialog_click       1\n",
      "2720        sub_car_claim_click       1\n",
      "2817      sub_open_dialog_click       1\n"
     ]
    }
   ],
   "source": [
    "\n",
    "# Вывести примеры строк с event_action из target_result\n",
    "sample_events = df_merged[df_merged['event_action'].isin(target_result)].head(20)\n",
    "print(sample_events[['event_action', 'target']])\n"
   ]
  },
  {
   "cell_type": "code",
   "execution_count": 39,
   "id": "172e4a8a-0863-434f-a984-07e77a1e661a",
   "metadata": {},
   "outputs": [
    {
     "data": {
      "image/png": "[encoded data removed]",
      "text/plain": [
       "<Figure size 600x400 with 1 Axes>"
      ]
     },
     "metadata": {},
     "output_type": "display_data"
    },
    {
     "name": "stdout",
     "output_type": "stream",
     "text": [
      "target\n",
      "0    1696147\n",
      "1       9560\n",
      "Name: count, dtype: int64\n"
     ]
    }
   ],
   "source": [
    "import matplotlib.pyplot as plt\n",
    "\n",
    "# Распределение классов в target\n",
    "class_distribution = df_merged['target'].value_counts()\n",
    "\n",
    "# Визуализация\n",
    "plt.figure(figsize=(6, 4))\n",
    "class_distribution.plot(kind='bar', color=['lightblue', 'salmon'])\n",
    "plt.title('Распределение классов в target')\n",
    "plt.xlabel('Класс')\n",
    "plt.ylabel('Количество')\n",
    "plt.xticks(rotation=0)\n",
    "plt.show()\n",
    "\n",
    "print(class_distribution)"
   ]
  },
  {
   "cell_type": "code",
   "execution_count": 43,
   "id": "f8937278-f6cd-4e00-89f4-d029d158b2a7",
   "metadata": {},
   "outputs": [
    {
     "name": "stdout",
     "output_type": "stream",
     "text": [
      "(1705707, 13)\n",
      "             utm_source utm_medium          utm_campaign  \\\n",
      "0  MvfHsxITijuriZxsqZqt        cpm  FTjNLDyTrXaWYgZymFkV   \n",
      "1  fDLlAcSmythWSCVMvqvL     (none)  LTuZkdKfxRGVceoWkVyg   \n",
      "2  ZpYIoDJMcFzVoPFsHGJL     banner  LEoPHuyFvzoNfnzGgfcd   \n",
      "3  ZpYIoDJMcFzVoPFsHGJL     banner  LEoPHuyFvzoNfnzGgfcd   \n",
      "4  fDLlAcSmythWSCVMvqvL     (none)  LTuZkdKfxRGVceoWkVyg   \n",
      "\n",
      "          utm_adcontent           utm_keyword device_category device_os  \\\n",
      "0  FTjNLDyTrXaWYgZymFkV  pHqgLcdBQPSLcrTpLkdr          mobile   Android   \n",
      "1  LTuZkdKfxRGVceoWkVyg  puhZPIYqKXeFPaUviSjo          mobile   Android   \n",
      "2  LEoPHuyFvzoNfnzGgfcd  puhZPIYqKXeFPaUviSjo          mobile   Android   \n",
      "3  LEoPHuyFvzoNfnzGgfcd  puhZPIYqKXeFPaUviSjo          mobile   Android   \n",
      "4  LTuZkdKfxRGVceoWkVyg  puhZPIYqKXeFPaUviSjo          mobile       iOS   \n",
      "\n",
      "  device_brand device_screen_resolution    device_browser geo_country  \\\n",
      "0      Samsung                  412x869            Chrome      Russia   \n",
      "1      Samsung                  360x640  Samsung Internet      Russia   \n",
      "2      Samsung                  412x846            Chrome      Russia   \n",
      "3       Realme                  360x780            Chrome      Russia   \n",
      "4        Apple                  414x736            Safari      Russia   \n",
      "\n",
      "     geo_city  target  \n",
      "0  Gelendzhik       0  \n",
      "1    Voronezh       0  \n",
      "2   Cherkessk       0  \n",
      "3     Irkutsk       0  \n",
      "4      Moscow       0  \n",
      "DataFrame успешно сохранён в файл 'merged_data.csv' и готов к использованию.\n"
     ]
    }
   ],
   "source": [
    "columns_to_keep = [col for col in df_merged.columns if col.startswith(('utm_', 'device_', 'geo_'))]+ ['target']\n",
    "df_clear = df_merged[columns_to_keep]\n",
    "print(df_clear.shape)\n",
    "print(df_clear.head())\n",
    "df_clear.to_csv('data_disbalaced.csv', index=False)\n",
    "print(\"DataFrame успешно сохранён в файл 'merged_data.csv' и готов к использованию.\")"
   ]
  },
  {
   "cell_type": "code",
   "execution_count": 44,
   "id": "4662864e-9a58-4524-9174-73f6c849d4c4",
   "metadata": {},
   "outputs": [
    {
     "data": {
      "text/plain": [
       "utm_source                  0\n",
       "utm_medium                  0\n",
       "utm_campaign                0\n",
       "utm_adcontent               0\n",
       "utm_keyword                 0\n",
       "device_category             0\n",
       "device_os                   0\n",
       "device_brand                0\n",
       "device_screen_resolution    0\n",
       "device_browser              0\n",
       "geo_country                 0\n",
       "geo_city                    0\n",
       "target                      0\n",
       "dtype: int64"
      ]
     },
     "execution_count": 44,
     "metadata": {},
     "output_type": "execute_result"
    }
   ],
   "source": [
    "df_clear.isna().sum()"
   ]
  },
  {
   "cell_type": "markdown",
   "id": "62447758-61c4-4ffd-a0a1-1694b5ae62e1",
   "metadata": {},
   "source": [
    "Генерация данных для таргет (1) создаст много шума"
   ]
  },
  {
   "cell_type": "code",
   "execution_count": 45,
   "id": "65a6ba11-dd1f-4c70-97a7-acf6116832af",
   "metadata": {},
   "outputs": [
    {
     "name": "stdout",
     "output_type": "stream",
     "text": [
      "target\n",
      "0    9560\n",
      "1    9560\n",
      "Name: count, dtype: int64\n"
     ]
    }
   ],
   "source": [
    "# Разделяем признаки и целевую переменную\n",
    "X = df_merged.drop('target', axis=1)\n",
    "y = df_merged['target']\n",
    "# Создаем балансировщик\n",
    "rus = RandomUnderSampler(sampling_strategy='auto', random_state=42)\n",
    "# Применяем балансировку\n",
    "X_resampled, y_resampled = rus.fit_resample(X, y)\n",
    "df_balanced = pd.concat([X_resampled, y_resampled], axis=1)\n",
    "\n",
    "# Проверяем новый баланс классов\n",
    "print(pd.Series(y_resampled).value_counts())"
   ]
  },
  {
   "cell_type": "code",
   "execution_count": 46,
   "id": "d506493d-33c1-4efb-b5da-8d495d3ff87b",
   "metadata": {},
   "outputs": [
    {
     "name": "stdout",
     "output_type": "stream",
     "text": [
      "(19120, 13)\n",
      "                   utm_source utm_medium          utm_campaign  \\\n",
      "696157   MvfHsxITijuriZxsqZqt        cpm  FTjNLDyTrXaWYgZymFkV   \n",
      "1432901  bByPQxmDaMXgpHeypKSM   referral  LTuZkdKfxRGVceoWkVyg   \n",
      "510894   ZpYIoDJMcFzVoPFsHGJL     banner  LEoPHuyFvzoNfnzGgfcd   \n",
      "1057190  fDLlAcSmythWSCVMvqvL     (none)  LTuZkdKfxRGVceoWkVyg   \n",
      "843233   kjsLglQLzykiRbcDiGcD        cpc  XHNUiSKKGTEpSAlaVMFQ   \n",
      "\n",
      "                utm_adcontent           utm_keyword device_category device_os  \\\n",
      "696157   FTjNLDyTrXaWYgZymFkV  pHqgLcdBQPSLcrTpLkdr          mobile   Android   \n",
      "1432901  LTuZkdKfxRGVceoWkVyg  puhZPIYqKXeFPaUviSjo          mobile   Android   \n",
      "510894   LEoPHuyFvzoNfnzGgfcd  puhZPIYqKXeFPaUviSjo          mobile   Android   \n",
      "1057190  LTuZkdKfxRGVceoWkVyg  puhZPIYqKXeFPaUviSjo          mobile   Android   \n",
      "843233   XHNUiSKKGTEpSAlaVMFQ  hAmNSZmQkKQKAjZEGlgb          mobile   Android   \n",
      "\n",
      "        device_brand device_screen_resolution    device_browser geo_country  \\\n",
      "696157       Samsung                  412x846            Chrome      Russia   \n",
      "1432901       Huawei                  360x800            Chrome      Russia   \n",
      "510894        Xiaomi                  393x851            Chrome      Russia   \n",
      "1057190       Xiaomi                  393x818   Android Webview      Russia   \n",
      "843233       Samsung                  412x915  Samsung Internet      Russia   \n",
      "\n",
      "                 geo_city  target  \n",
      "696157             Moscow       0  \n",
      "1432901            Moscow       0  \n",
      "510894                Ufa       0  \n",
      "1057190  Saint Petersburg       0  \n",
      "843233             Moscow       0  \n"
     ]
    }
   ],
   "source": [
    "columns_to_keep = [col for col in df_balanced.columns if col.startswith(('utm_', 'device_', 'geo_'))]+ ['target']\n",
    "df_formated = df_balanced[columns_to_keep]\n",
    "print(df_formated.shape)\n",
    "print(df_formated.head())"
   ]
  },
  {
   "cell_type": "code",
   "execution_count": 50,
   "id": "16f899d7-85b4-49d3-b2e2-60bc04ee16da",
   "metadata": {},
   "outputs": [
    {
     "data": {
      "text/html": [
       "<div>\n",
       "<style scoped>\n",
       "    .dataframe tbody tr th:only-of-type {\n",
       "        vertical-align: middle;\n",
       "    }\n",
       "\n",
       "    .dataframe tbody tr th {\n",
       "        vertical-align: top;\n",
       "    }\n",
       "\n",
       "    .dataframe thead th {\n",
       "        text-align: right;\n",
       "    }\n",
       "</style>\n",
       "<table border=\"1\" class=\"dataframe\">\n",
       "  <thead>\n",
       "    <tr style=\"text-align: right;\">\n",
       "      <th></th>\n",
       "      <th>utm_source</th>\n",
       "      <th>utm_medium</th>\n",
       "      <th>utm_campaign</th>\n",
       "      <th>utm_adcontent</th>\n",
       "      <th>utm_keyword</th>\n",
       "      <th>device_category</th>\n",
       "      <th>device_os</th>\n",
       "      <th>device_brand</th>\n",
       "      <th>device_screen_resolution</th>\n",
       "      <th>device_browser</th>\n",
       "      <th>geo_country</th>\n",
       "      <th>geo_city</th>\n",
       "      <th>target</th>\n",
       "    </tr>\n",
       "  </thead>\n",
       "  <tbody>\n",
       "    <tr>\n",
       "      <th>1057190</th>\n",
       "      <td>fDLlAcSmythWSCVMvqvL</td>\n",
       "      <td>(none)</td>\n",
       "      <td>LTuZkdKfxRGVceoWkVyg</td>\n",
       "      <td>LTuZkdKfxRGVceoWkVyg</td>\n",
       "      <td>puhZPIYqKXeFPaUviSjo</td>\n",
       "      <td>mobile</td>\n",
       "      <td>Android</td>\n",
       "      <td>Xiaomi</td>\n",
       "      <td>393x818</td>\n",
       "      <td>Android Webview</td>\n",
       "      <td>Russia</td>\n",
       "      <td>Saint Petersburg</td>\n",
       "      <td>0</td>\n",
       "    </tr>\n",
       "    <tr>\n",
       "      <th>663258</th>\n",
       "      <td>fDLlAcSmythWSCVMvqvL</td>\n",
       "      <td>(none)</td>\n",
       "      <td>LTuZkdKfxRGVceoWkVyg</td>\n",
       "      <td>LTuZkdKfxRGVceoWkVyg</td>\n",
       "      <td>puhZPIYqKXeFPaUviSjo</td>\n",
       "      <td>desktop</td>\n",
       "      <td>Windows</td>\n",
       "      <td>other</td>\n",
       "      <td>1536x864</td>\n",
       "      <td>Opera</td>\n",
       "      <td>Russia</td>\n",
       "      <td>Samara</td>\n",
       "      <td>0</td>\n",
       "    </tr>\n",
       "    <tr>\n",
       "      <th>697873</th>\n",
       "      <td>fDLlAcSmythWSCVMvqvL</td>\n",
       "      <td>(none)</td>\n",
       "      <td>LTuZkdKfxRGVceoWkVyg</td>\n",
       "      <td>LTuZkdKfxRGVceoWkVyg</td>\n",
       "      <td>puhZPIYqKXeFPaUviSjo</td>\n",
       "      <td>mobile</td>\n",
       "      <td>iOS</td>\n",
       "      <td>Apple</td>\n",
       "      <td>428x926</td>\n",
       "      <td>Safari</td>\n",
       "      <td>Russia</td>\n",
       "      <td>Moscow</td>\n",
       "      <td>0</td>\n",
       "    </tr>\n",
       "    <tr>\n",
       "      <th>62391</th>\n",
       "      <td>fDLlAcSmythWSCVMvqvL</td>\n",
       "      <td>(none)</td>\n",
       "      <td>LTuZkdKfxRGVceoWkVyg</td>\n",
       "      <td>LTuZkdKfxRGVceoWkVyg</td>\n",
       "      <td>puhZPIYqKXeFPaUviSjo</td>\n",
       "      <td>desktop</td>\n",
       "      <td>Windows</td>\n",
       "      <td>other</td>\n",
       "      <td>1920x1080</td>\n",
       "      <td>Opera</td>\n",
       "      <td>Ukraine</td>\n",
       "      <td>Kharkiv</td>\n",
       "      <td>0</td>\n",
       "    </tr>\n",
       "    <tr>\n",
       "      <th>448665</th>\n",
       "      <td>fDLlAcSmythWSCVMvqvL</td>\n",
       "      <td>(none)</td>\n",
       "      <td>LTuZkdKfxRGVceoWkVyg</td>\n",
       "      <td>LTuZkdKfxRGVceoWkVyg</td>\n",
       "      <td>puhZPIYqKXeFPaUviSjo</td>\n",
       "      <td>mobile</td>\n",
       "      <td>iOS</td>\n",
       "      <td>Apple</td>\n",
       "      <td>414x896</td>\n",
       "      <td>Safari (in-app)</td>\n",
       "      <td>Russia</td>\n",
       "      <td>Voronezh</td>\n",
       "      <td>0</td>\n",
       "    </tr>\n",
       "    <tr>\n",
       "      <th>...</th>\n",
       "      <td>...</td>\n",
       "      <td>...</td>\n",
       "      <td>...</td>\n",
       "      <td>...</td>\n",
       "      <td>...</td>\n",
       "      <td>...</td>\n",
       "      <td>...</td>\n",
       "      <td>...</td>\n",
       "      <td>...</td>\n",
       "      <td>...</td>\n",
       "      <td>...</td>\n",
       "      <td>...</td>\n",
       "      <td>...</td>\n",
       "    </tr>\n",
       "    <tr>\n",
       "      <th>1722244</th>\n",
       "      <td>fDLlAcSmythWSCVMvqvL</td>\n",
       "      <td>(none)</td>\n",
       "      <td>LTuZkdKfxRGVceoWkVyg</td>\n",
       "      <td>LTuZkdKfxRGVceoWkVyg</td>\n",
       "      <td>puhZPIYqKXeFPaUviSjo</td>\n",
       "      <td>desktop</td>\n",
       "      <td>Windows</td>\n",
       "      <td>other</td>\n",
       "      <td>1920x1080</td>\n",
       "      <td>Chrome</td>\n",
       "      <td>Russia</td>\n",
       "      <td>Moscow</td>\n",
       "      <td>1</td>\n",
       "    </tr>\n",
       "    <tr>\n",
       "      <th>1727410</th>\n",
       "      <td>fDLlAcSmythWSCVMvqvL</td>\n",
       "      <td>(none)</td>\n",
       "      <td>LTuZkdKfxRGVceoWkVyg</td>\n",
       "      <td>LTuZkdKfxRGVceoWkVyg</td>\n",
       "      <td>puhZPIYqKXeFPaUviSjo</td>\n",
       "      <td>mobile</td>\n",
       "      <td>iOS</td>\n",
       "      <td>Apple</td>\n",
       "      <td>375x812</td>\n",
       "      <td>Chrome</td>\n",
       "      <td>Russia</td>\n",
       "      <td>Moscow</td>\n",
       "      <td>1</td>\n",
       "    </tr>\n",
       "    <tr>\n",
       "      <th>1729844</th>\n",
       "      <td>fDLlAcSmythWSCVMvqvL</td>\n",
       "      <td>(none)</td>\n",
       "      <td>LTuZkdKfxRGVceoWkVyg</td>\n",
       "      <td>LTuZkdKfxRGVceoWkVyg</td>\n",
       "      <td>puhZPIYqKXeFPaUviSjo</td>\n",
       "      <td>mobile</td>\n",
       "      <td>iOS</td>\n",
       "      <td>Apple</td>\n",
       "      <td>414x896</td>\n",
       "      <td>Safari</td>\n",
       "      <td>Russia</td>\n",
       "      <td>Moscow</td>\n",
       "      <td>1</td>\n",
       "    </tr>\n",
       "    <tr>\n",
       "      <th>1731822</th>\n",
       "      <td>fDLlAcSmythWSCVMvqvL</td>\n",
       "      <td>(none)</td>\n",
       "      <td>LTuZkdKfxRGVceoWkVyg</td>\n",
       "      <td>LTuZkdKfxRGVceoWkVyg</td>\n",
       "      <td>puhZPIYqKXeFPaUviSjo</td>\n",
       "      <td>desktop</td>\n",
       "      <td>Windows</td>\n",
       "      <td>other</td>\n",
       "      <td>1280x1024</td>\n",
       "      <td>Chrome</td>\n",
       "      <td>Russia</td>\n",
       "      <td>Nizhny Novgorod</td>\n",
       "      <td>1</td>\n",
       "    </tr>\n",
       "    <tr>\n",
       "      <th>1732247</th>\n",
       "      <td>fDLlAcSmythWSCVMvqvL</td>\n",
       "      <td>(none)</td>\n",
       "      <td>LTuZkdKfxRGVceoWkVyg</td>\n",
       "      <td>LTuZkdKfxRGVceoWkVyg</td>\n",
       "      <td>puhZPIYqKXeFPaUviSjo</td>\n",
       "      <td>mobile</td>\n",
       "      <td>Android</td>\n",
       "      <td>Samsung</td>\n",
       "      <td>412x915</td>\n",
       "      <td>Chrome</td>\n",
       "      <td>Russia</td>\n",
       "      <td>Moscow</td>\n",
       "      <td>1</td>\n",
       "    </tr>\n",
       "  </tbody>\n",
       "</table>\n",
       "<p>2821 rows × 13 columns</p>\n",
       "</div>"
      ],
      "text/plain": [
       "                   utm_source utm_medium          utm_campaign  \\\n",
       "1057190  fDLlAcSmythWSCVMvqvL     (none)  LTuZkdKfxRGVceoWkVyg   \n",
       "663258   fDLlAcSmythWSCVMvqvL     (none)  LTuZkdKfxRGVceoWkVyg   \n",
       "697873   fDLlAcSmythWSCVMvqvL     (none)  LTuZkdKfxRGVceoWkVyg   \n",
       "62391    fDLlAcSmythWSCVMvqvL     (none)  LTuZkdKfxRGVceoWkVyg   \n",
       "448665   fDLlAcSmythWSCVMvqvL     (none)  LTuZkdKfxRGVceoWkVyg   \n",
       "...                       ...        ...                   ...   \n",
       "1722244  fDLlAcSmythWSCVMvqvL     (none)  LTuZkdKfxRGVceoWkVyg   \n",
       "1727410  fDLlAcSmythWSCVMvqvL     (none)  LTuZkdKfxRGVceoWkVyg   \n",
       "1729844  fDLlAcSmythWSCVMvqvL     (none)  LTuZkdKfxRGVceoWkVyg   \n",
       "1731822  fDLlAcSmythWSCVMvqvL     (none)  LTuZkdKfxRGVceoWkVyg   \n",
       "1732247  fDLlAcSmythWSCVMvqvL     (none)  LTuZkdKfxRGVceoWkVyg   \n",
       "\n",
       "                utm_adcontent           utm_keyword device_category device_os  \\\n",
       "1057190  LTuZkdKfxRGVceoWkVyg  puhZPIYqKXeFPaUviSjo          mobile   Android   \n",
       "663258   LTuZkdKfxRGVceoWkVyg  puhZPIYqKXeFPaUviSjo         desktop   Windows   \n",
       "697873   LTuZkdKfxRGVceoWkVyg  puhZPIYqKXeFPaUviSjo          mobile       iOS   \n",
       "62391    LTuZkdKfxRGVceoWkVyg  puhZPIYqKXeFPaUviSjo         desktop   Windows   \n",
       "448665   LTuZkdKfxRGVceoWkVyg  puhZPIYqKXeFPaUviSjo          mobile       iOS   \n",
       "...                       ...                   ...             ...       ...   \n",
       "1722244  LTuZkdKfxRGVceoWkVyg  puhZPIYqKXeFPaUviSjo         desktop   Windows   \n",
       "1727410  LTuZkdKfxRGVceoWkVyg  puhZPIYqKXeFPaUviSjo          mobile       iOS   \n",
       "1729844  LTuZkdKfxRGVceoWkVyg  puhZPIYqKXeFPaUviSjo          mobile       iOS   \n",
       "1731822  LTuZkdKfxRGVceoWkVyg  puhZPIYqKXeFPaUviSjo         desktop   Windows   \n",
       "1732247  LTuZkdKfxRGVceoWkVyg  puhZPIYqKXeFPaUviSjo          mobile   Android   \n",
       "\n",
       "        device_brand device_screen_resolution   device_browser geo_country  \\\n",
       "1057190       Xiaomi                  393x818  Android Webview      Russia   \n",
       "663258         other                 1536x864            Opera      Russia   \n",
       "697873         Apple                  428x926           Safari      Russia   \n",
       "62391          other                1920x1080            Opera     Ukraine   \n",
       "448665         Apple                  414x896  Safari (in-app)      Russia   \n",
       "...              ...                      ...              ...         ...   \n",
       "1722244        other                1920x1080           Chrome      Russia   \n",
       "1727410        Apple                  375x812           Chrome      Russia   \n",
       "1729844        Apple                  414x896           Safari      Russia   \n",
       "1731822        other                1280x1024           Chrome      Russia   \n",
       "1732247      Samsung                  412x915           Chrome      Russia   \n",
       "\n",
       "                 geo_city  target  \n",
       "1057190  Saint Petersburg       0  \n",
       "663258             Samara       0  \n",
       "697873             Moscow       0  \n",
       "62391             Kharkiv       0  \n",
       "448665           Voronezh       0  \n",
       "...                   ...     ...  \n",
       "1722244            Moscow       1  \n",
       "1727410            Moscow       1  \n",
       "1729844            Moscow       1  \n",
       "1731822   Nizhny Novgorod       1  \n",
       "1732247            Moscow       1  \n",
       "\n",
       "[2821 rows x 13 columns]"
      ]
     },
     "execution_count": 50,
     "metadata": {},
     "output_type": "execute_result"
    }
   ],
   "source": [
    "df_formated.isna().sum\n",
    "none_mask = df_formated.apply(lambda x: x.astype(str).str.contains(r'\\(none\\)', case=False, na=False))\n",
    "df_formated[none_mask.any(axis=1)]\n",
    "\n"
   ]
  },
  {
   "cell_type": "code",
   "execution_count": 55,
   "id": "7db10caa-ab6a-4cb3-9de6-b35a594a498c",
   "metadata": {},
   "outputs": [],
   "source": [
    "df_drope_none = df_formated[df_formated['utm_medium'] != '(none)']\n"
   ]
  },
  {
   "cell_type": "code",
   "execution_count": 58,
   "id": "dfe20536-0793-4c07-8f55-82a7732763c2",
   "metadata": {},
   "outputs": [
    {
     "name": "stdout",
     "output_type": "stream",
     "text": [
      "(16299, 13)\n",
      "DataFrame успешно сохранён в файл 'drope_none_data.csv' и готов к использованию.\n"
     ]
    }
   ],
   "source": [
    "df_drope_none.to_csv('drope_none_data.csv', index=False)\n",
    "print(df_drope_none.shape)\n",
    "print(\"DataFrame успешно сохранён в файл 'drope_none_data.csv' и готов к использованию.\")"
   ]
  },
  {
   "cell_type": "code",
   "execution_count": 59,
   "id": "8587f6f3-75bf-46fc-8cf7-079f4d6c7ba7",
   "metadata": {},
   "outputs": [
    {
     "name": "stdout",
     "output_type": "stream",
     "text": [
      "target\n",
      "1    8325\n",
      "0    7974\n",
      "Name: count, dtype: int64\n"
     ]
    }
   ],
   "source": [
    "print(df_drope_none['target'].value_counts())\n"
   ]
  },
  {
   "cell_type": "code",
   "execution_count": 61,
   "id": "863ba51b-2e5d-4075-882d-6abd5dd0e2f6",
   "metadata": {},
   "outputs": [
    {
     "name": "stdout",
     "output_type": "stream",
     "text": [
      "target\n",
      "0    7974\n",
      "1    7974\n",
      "Name: count, dtype: int64\n"
     ]
    }
   ],
   "source": [
    "# Разделяем признаки и целевую переменную\n",
    "X = df_drope_none.drop('target', axis=1)\n",
    "y = df_drope_none['target']\n",
    "# Создаем балансировщик\n",
    "rus = RandomUnderSampler(sampling_strategy='auto', random_state=42)\n",
    "# Применяем балансировку\n",
    "X_resampled, y_resampled = rus.fit_resample(X, y)\n",
    "df_drope_none_balanced = pd.concat([X_resampled, y_resampled], axis=1)\n",
    "\n",
    "# Проверяем новый баланс классов\n",
    "print(pd.Series(y_resampled).value_counts())"
   ]
  },
  {
   "cell_type": "code",
   "execution_count": 62,
   "id": "bd13ad04-1d2a-4b38-af92-f1cc2953065a",
   "metadata": {},
   "outputs": [
    {
     "name": "stdout",
     "output_type": "stream",
     "text": [
      "DataFrame успешно сохранён в файл 'data_drope_none_balanced.csv' и готов к использованию.\n"
     ]
    }
   ],
   "source": [
    "df_drope_none_balanced.to_csv('data_drope_none_balanced.csv', index=False)\n",
    "print(\"DataFrame успешно сохранён в файл 'data_drope_none_balanced.csv' и готов к использованию.\")"
   ]
  },
  {
   "cell_type": "code",
   "execution_count": 66,
   "id": "0538d11d-802c-4e4c-8f41-fcea0eea4bbb",
   "metadata": {},
   "outputs": [
    {
     "name": "stdout",
     "output_type": "stream",
     "text": [
      "DataFrame успешно сохранён в файл 'merged_data.csv' и готов к использованию.\n"
     ]
    }
   ],
   "source": [
    "df_formated.to_csv('data.csv', index=False)\n",
    "print(\"DataFrame успешно сохранён в файл 'merged_data.csv' и готов к использованию.\")"
   ]
  },
  {
   "cell_type": "code",
   "execution_count": null,
   "id": "d08cc0cc-2aee-486a-b4f5-b66f316adf00",
   "metadata": {},
   "outputs": [],
   "source": []
  }
 ],
 "metadata": {
  "kernelspec": {
   "display_name": "Python 3 (ipykernel)",
   "language": "python",
   "name": "python3"
  },
  "language_info": {
   "codemirror_mode": {
    "name": "ipython",
    "version": 3
   },
   "file_extension": ".py",
   "mimetype": "text/x-python",
   "name": "python",
   "nbconvert_exporter": "python",
   "pygments_lexer": "ipython3",
   "version": "3.12.5"
  }
 },
 "nbformat": 4,
 "nbformat_minor": 5
}
